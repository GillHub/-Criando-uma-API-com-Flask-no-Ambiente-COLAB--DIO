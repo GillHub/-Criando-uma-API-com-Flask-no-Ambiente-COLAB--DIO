from flask import Flask, jsonify

app = Flask(__name__)

# Dados de exemplo (substitua pelos seus dados reais)
dados = [
    {"nome": "João", "idade": 30},
    {"nome": "Maria", "idade": 25},
    # ... outros dados
]

@app.route('/index', methods=['GET'])
def obter_planilha():
    return jsonify(dados)

if __name__ == '__main__':
    app.run(debug=True)
